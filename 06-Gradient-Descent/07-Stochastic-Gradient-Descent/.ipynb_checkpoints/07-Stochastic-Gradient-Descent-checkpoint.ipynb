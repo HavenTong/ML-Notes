{
 "cells": [
  {
   "cell_type": "markdown",
   "metadata": {},
   "source": [
    "# 随机梯度下降法"
   ]
  },
  {
   "cell_type": "markdown",
   "metadata": {},
   "source": [
    "前面章节所提到的为批量梯度下降法(Batch Gradient Descent)"
   ]
  },
  {
   "cell_type": "markdown",
   "metadata": {},
   "source": [
    "$$\n",
    "    \\nabla J(\\theta) = = \\frac{2}{m} \\cdot \\left(\n",
    "\\begin{matrix}\n",
    "\\sum_{i=1}^m(X_b^{(i)}\\theta - y^{(i)}) * X_0^{(i)} \\\\\n",
    "\\sum_{i=1}^m(X_b^{(i)}\\theta - y^{(i)}) * X_1^{(i)} \\\\\n",
    "\\sum_{i=1}^m(X_b^{(i)}\\theta - y^{(i)}) * X_2^{(i)} \\\\\n",
    "... \\\\\n",
    "\\sum_{i=1}^m(X_b^{(i)}\\theta - y^{(i)}) * X_n^{(i)}\n",
    "\\end{matrix}\n",
    "\\right)\n",
    "$$"
   ]
  },
  {
   "cell_type": "markdown",
   "metadata": {},
   "source": [
    "考虑只对一个样本进行计算"
   ]
  },
  {
   "cell_type": "markdown",
   "metadata": {},
   "source": [
    "$$\n",
    "    2 \\cdot \\left(\n",
    "\\begin{matrix}\n",
    "(X_b^{(i)}\\theta - y^{(i)}) \\cdot X_0^{(i)} \\\\\n",
    "(X_b^{(i)}\\theta - y^{(i)}) \\cdot X_1^{(i)} \\\\\n",
    "(X_b^{(i)}\\theta - y^{(i)}) \\cdot X_2^{(i)} \\\\\n",
    "... \\\\\n",
    "(X_b^{(i)}\\theta - y^{(i)}) \\cdot X_n^{(i)}\n",
    "\\end{matrix}\n",
    "\\right)\n",
    "$$"
   ]
  },
  {
   "cell_type": "code",
   "execution_count": null,
   "metadata": {},
   "outputs": [],
   "source": []
  }
 ],
 "metadata": {
  "kernelspec": {
   "display_name": "Python 3",
   "language": "python",
   "name": "python3"
  },
  "language_info": {
   "codemirror_mode": {
    "name": "ipython",
    "version": 3
   },
   "file_extension": ".py",
   "mimetype": "text/x-python",
   "name": "python",
   "nbconvert_exporter": "python",
   "pygments_lexer": "ipython3",
   "version": "3.6.10"
  }
 },
 "nbformat": 4,
 "nbformat_minor": 4
}
