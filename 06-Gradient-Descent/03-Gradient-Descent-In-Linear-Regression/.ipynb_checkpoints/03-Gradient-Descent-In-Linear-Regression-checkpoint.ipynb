{
 "cells": [
  {
   "cell_type": "markdown",
   "metadata": {},
   "source": [
    "# 多元线性规划中的梯度下降"
   ]
  },
  {
   "cell_type": "markdown",
   "metadata": {},
   "source": [
    "损失函数：\n",
    "$$\n",
    "    J = \\sum_{i=1}^m(y^{(i)} - \\hat{y}^{(i)})^2\n",
    "$$"
   ]
  },
  {
   "cell_type": "markdown",
   "metadata": {},
   "source": [
    "$$\n",
    "    \\theta = (\\theta_0, \\theta_1, \\theta_2,...\\theta_n)\n",
    "$$"
   ]
  },
  {
   "cell_type": "markdown",
   "metadata": {},
   "source": [
    "$$\n",
    "    -\\eta \\nabla J\n",
    "$$"
   ]
  },
  {
   "cell_type": "markdown",
   "metadata": {},
   "source": [
    "$$\n",
    "    \\nabla J = (\\frac{\\partial J}{\\partial \\theta_0}, \\frac{\\partial J}{\\partial \\theta_1}, \\frac{\\partial J}{\\partial \\theta_2}...,\\frac{\\partial J}{\\partial \\theta_n})\n",
    "$$"
   ]
  },
  {
   "cell_type": "markdown",
   "metadata": {},
   "source": [
    "梯度代表方向，对应J变化最快的方向"
   ]
  },
  {
   "cell_type": "markdown",
   "metadata": {},
   "source": [
    "$$\n",
    "    \\hat{y}^{(i)} = \\theta_0 + \\theta_1X_1^{(i)} + \\theta_2X_2^{(i)} + \\theta_3X_3^{(i)} + ...+\\theta_nX_n^{(i)}\n",
    "$$"
   ]
  },
  {
   "cell_type": "markdown",
   "metadata": {},
   "source": [
    "目标：使\n",
    "$$\n",
    "    \\sum_{i=1}^m(y^{(i)} - \\theta_0 - \\theta_1X_1^{(i)} - \\theta_2X_2^{(i)} - \\theta_3X_3^{(i)} - ...-\\theta_nX_n^{(i)})^2\n",
    "$$"
   ]
  },
  {
   "cell_type": "markdown",
   "metadata": {},
   "source": [
    "尽可能小"
   ]
  },
  {
   "cell_type": "markdown",
   "metadata": {},
   "source": [
    "$$\n",
    "    \\nabla J(\\theta) = \\left(\n",
    "\\begin{matrix}\n",
    "\\frac{\\partial J}{\\partial \\theta_0}\\\\\n",
    "\\frac{\\partial J}{\\partial \\theta_1}\\\\\n",
    "\\frac{\\partial J}{\\partial \\theta_2}\\\\\n",
    "...\\\\\n",
    "\\frac{\\partial J}{\\partial \\theta_n}\n",
    "\\end{matrix}\n",
    "\\right)\n",
    "= \n",
    "\\left(\n",
    "\\begin{matrix}\n",
    "\\sum_{i=1}^m2(y^{(i)} - X_b^{(i)}\\theta)\\cdot(-1) \\\\\n",
    "\\sum_{i=1}^m2(y^{(i)} - X_b^{(i)}\\theta)\\cdot(-X_1^{(i)}) \\\\\n",
    "\\sum_{i=1}^m2(y^{(i)} - X_b^{(i)}\\theta)\\cdot(-X_2^{(i)}) \\\\\n",
    "... \\\\\n",
    "\\sum_{i=1}^m2(y^{(i)} - X_b^{(i)}\\theta)\\cdot(-X_n^{(i)})\n",
    "\\end{matrix}\n",
    "\\right)\n",
    "= 2 * \\left(\n",
    "\\begin{matrix}\n",
    "\\sum_{i=1}^m(X_b^{(i)}\\theta - y^{(i)}) \\\\\n",
    "\\sum_{i=1}^m(X_b^{(i)}\\theta - y^{(i)}) * X_1^{(i)} \\\\\n",
    "\\sum_{i=1}^m(X_b^{(i)}\\theta - y^{(i)}) * X_2^{(i)} \\\\\n",
    "... \\\\\n",
    "\\sum_{i=1}^m(X_b^{(i)}\\theta - y^{(i)}) * X_n^{(i)}\n",
    "\\end{matrix}\n",
    "\\right)\n",
    "$$"
   ]
  },
  {
   "cell_type": "markdown",
   "metadata": {},
   "source": [
    "当前梯度大小与$m$相关，要使得与$m$无关，则需要乘上 $\\frac{1}{m}$"
   ]
  },
  {
   "cell_type": "markdown",
   "metadata": {},
   "source": [
    "$$\n",
    "\\nabla J(\\theta) = = \\frac{2}{m} \\cdot \\left(\n",
    "\\begin{matrix}\n",
    "\\sum_{i=1}^m(X_b^{(i)}\\theta - y^{(i)}) \\\\\n",
    "\\sum_{i=1}^m(X_b^{(i)}\\theta - y^{(i)}) * X_1^{(i)} \\\\\n",
    "\\sum_{i=1}^m(X_b^{(i)}\\theta - y^{(i)}) * X_2^{(i)} \\\\\n",
    "... \\\\\n",
    "\\sum_{i=1}^m(X_b^{(i)}\\theta - y^{(i)}) * X_n^{(i)}\n",
    "\\end{matrix}\n",
    "\\right)\n",
    "$$"
   ]
  },
  {
   "cell_type": "markdown",
   "metadata": {},
   "source": [
    "目标改为使:\n",
    "$$\n",
    "     \\frac{1}{m}\\sum_{i=1}^m(y^{(i)} - \\hat{y}^{(i)})^2\n",
    "$$\n",
    "尽可能小"
   ]
  },
  {
   "cell_type": "markdown",
   "metadata": {},
   "source": [
    "有时也会取:\n",
    "$$\n",
    "    \\frac{1}{2m}\\sum_{i=1}^m(y^{(i)} - \\hat{y}^{(i)})^2\n",
    "$$"
   ]
  },
  {
   "cell_type": "code",
   "execution_count": null,
   "metadata": {},
   "outputs": [],
   "source": []
  }
 ],
 "metadata": {
  "kernelspec": {
   "display_name": "Python 3",
   "language": "python",
   "name": "python3"
  },
  "language_info": {
   "codemirror_mode": {
    "name": "ipython",
    "version": 3
   },
   "file_extension": ".py",
   "mimetype": "text/x-python",
   "name": "python",
   "nbconvert_exporter": "python",
   "pygments_lexer": "ipython3",
   "version": "3.6.10"
  }
 },
 "nbformat": 4,
 "nbformat_minor": 4
}
