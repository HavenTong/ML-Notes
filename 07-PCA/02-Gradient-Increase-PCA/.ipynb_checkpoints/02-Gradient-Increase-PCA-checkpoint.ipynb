{
 "cells": [
  {
   "cell_type": "markdown",
   "metadata": {},
   "source": [
    "# 梯度上升法解决主成分分析问题"
   ]
  },
  {
   "cell_type": "markdown",
   "metadata": {},
   "source": [
    "目标：求$w$，使得\n",
    "$$\n",
    "    f(X) = \\frac{1}{m}\\sum_{i=1}^m(X_1^{(i)}w_1 + X_2^{(i)}w2 + ... + X_n^{(i)}w_n)^2\n",
    "$$\n",
    "最大"
   ]
  },
  {
   "cell_type": "markdown",
   "metadata": {},
   "source": [
    "$$\n",
    "\\nabla f = \\left( \\begin{matrix}\n",
    "\\frac{\\partial f}{\\partial w_1} \\\\\n",
    "\\frac{\\partial f}{\\partial w_2} \\\\\n",
    "\\frac{\\partial f}{\\partial w_3} \\\\\n",
    "... \\\\\n",
    "\\frac{\\partial f}{\\partial w_n}\n",
    "\\end{matrix}\n",
    "\\right)\n",
    "= \\frac{2}{m} \\left( \\begin{matrix}\n",
    "\\sum_{i=1}^m (X^{(i)}_1w_1 + X^{(i)}w_2 +...+ X^{(i)}_nw_n) X_1^{(i)} \\\\\n",
    "\\sum_{i=1}^m (X^{(i)}_1w_1 + X^{(i)}w_2 +...+ X^{(i)}_nw_n) X_2^{(i)} \\\\\n",
    "...\\\\\n",
    "\\sum_{i=1}^m (X^{(i)}_1w_1 + X^{(i)}w_2 +...+ X^{(i)}_nw_n) X_n^{(i)} \\\\\n",
    "\\end{matrix}\n",
    "\\right)\n",
    "$$"
   ]
  },
  {
   "cell_type": "markdown",
   "metadata": {},
   "source": [
    "$$\n",
    "    \\nabla f =\\frac{2}{m} \\left( \\begin{matrix}\n",
    "\\sum_{i=1}^m(X^{(i)}w)X_1^{(i)} \\\\\n",
    "\\sum_{i=1}^m(X^{(i)}w)X_2^{(i)}\\\\\n",
    "... \\\\\n",
    "\\sum_{i=1}^m(X^{(i)}w)X_n^{(i)}\n",
    "\\end{matrix}\n",
    "\\right)\n",
    "$$"
   ]
  },
  {
   "cell_type": "markdown",
   "metadata": {},
   "source": [
    "进行向量化处理"
   ]
  },
  {
   "cell_type": "markdown",
   "metadata": {},
   "source": [
    "$$\n",
    "    X\\cdot w = (X^{(1)}w, X^{(2)}w, X^{(3)}w,...X^{(m)}w)\n",
    "$$"
   ]
  },
  {
   "cell_type": "markdown",
   "metadata": {},
   "source": [
    "$$\n",
    "    \\frac{2}{m} (X^{(1)}w, X^{(2)}w, X^{(3)}w,...X^{(m)}w)\n",
    "$$"
   ]
  },
  {
   "cell_type": "markdown",
   "metadata": {},
   "source": [
    "$$\n",
    "    \\left( \\begin{matrix}\n",
    "X_1^{(1)}, X_2^{(1)}, X_3^{(1)} ... X_n^{(1)} \\\\\n",
    "X_1^{(2)}, X_2^{(2)}, X_3^{(2)} ... X_n^{(2)} \\\\\n",
    "X_1^{(3)}, X_2^{(3)}, X_3^{(3)} ... X_n^{(3)} \\\\\n",
    "... \\\\\n",
    "X_1^{(m)}, X_2^{(m)}, X_3^{(m)} ... X_n^{(m)} \\\\\n",
    "\\end{matrix}\n",
    "\\right)\n",
    "$$"
   ]
  },
  {
   "cell_type": "markdown",
   "metadata": {},
   "source": [
    "$$\n",
    "       \\nabla f =\\frac{2}{m} \\cdot(Xw)^T \\cdot X\n",
    "$$"
   ]
  },
  {
   "cell_type": "markdown",
   "metadata": {},
   "source": [
    "再转制成列向量"
   ]
  },
  {
   "cell_type": "markdown",
   "metadata": {},
   "source": [
    "$$\n",
    "        \\nabla f =\\frac{2}{m}\\cdot X^T \\cdot (Xw)\n",
    "$$"
   ]
  },
  {
   "cell_type": "code",
   "execution_count": null,
   "metadata": {},
   "outputs": [],
   "source": []
  }
 ],
 "metadata": {
  "kernelspec": {
   "display_name": "Python 3",
   "language": "python",
   "name": "python3"
  },
  "language_info": {
   "codemirror_mode": {
    "name": "ipython",
    "version": 3
   },
   "file_extension": ".py",
   "mimetype": "text/x-python",
   "name": "python",
   "nbconvert_exporter": "python",
   "pygments_lexer": "ipython3",
   "version": "3.6.10"
  }
 },
 "nbformat": 4,
 "nbformat_minor": 4
}
