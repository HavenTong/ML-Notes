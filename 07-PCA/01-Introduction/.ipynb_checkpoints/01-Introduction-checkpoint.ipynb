{
 "cells": [
  {
   "cell_type": "markdown",
   "metadata": {},
   "source": [
    "# PCA-主成分分析 Principal Component Analysis"
   ]
  },
  {
   "cell_type": "markdown",
   "metadata": {},
   "source": [
    "- 一个非监督的机器学习算法\n",
    "- 主要用于数据的降维\n",
    "- 通过降维，可以发现更便于人类理解的特征\n",
    "- 其他应用：可视化，去燥"
   ]
  },
  {
   "cell_type": "markdown",
   "metadata": {},
   "source": [
    "- 如何找到这个让样本间间距最大的轴\n",
    "- 如何定义样本间间距\n",
    "- 使用方差(Variance)"
   ]
  },
  {
   "cell_type": "markdown",
   "metadata": {},
   "source": [
    "$$\n",
    "    Var(x) = \\frac{1}{m} \\sum_{i=1}^m(x_i - \\bar{x})^2\n",
    "$$"
   ]
  },
  {
   "cell_type": "markdown",
   "metadata": {},
   "source": [
    "找到一个轴，使得样本空间的所有点映射到这个轴后，方差最大"
   ]
  },
  {
   "cell_type": "markdown",
   "metadata": {},
   "source": [
    "将样本的均值归为0(demean)"
   ]
  },
  {
   "cell_type": "markdown",
   "metadata": {},
   "source": [
    "$$\n",
    "      \\bar{x} = 0\n",
    "$$"
   ]
  },
  {
   "cell_type": "markdown",
   "metadata": {},
   "source": [
    "$$\n",
    "    Var(x) = \\frac{1}{m} \\sum_{i=1}^mx_i^2\n",
    "$$"
   ]
  },
  {
   "cell_type": "markdown",
   "metadata": {},
   "source": [
    "之后求一个轴的方向$w = (w_1, w_2)$"
   ]
  },
  {
   "cell_type": "markdown",
   "metadata": {},
   "source": [
    "使得所有的样本都映射到$w$后，有：\n",
    "$$\n",
    "Var(X_{project})  = \\frac{1}{m} \\sum_{i=1}^m(X^{(i)}_{project} - \\bar{X}_{project})^2\n",
    "$$\n",
    "最大"
   ]
  },
  {
   "cell_type": "markdown",
   "metadata": {},
   "source": [
    "$$\n",
    "    Var(X_{project})  = \\frac{1}{m} \\sum_{i=1}^m||X^{(i)}_{project} - \\bar{X}_{project}||^2\n",
    "$$"
   ]
  },
  {
   "cell_type": "markdown",
   "metadata": {},
   "source": [
    "$$\n",
    "    \\bar{X}_{project} = 0\n",
    "$$"
   ]
  },
  {
   "cell_type": "markdown",
   "metadata": {},
   "source": [
    "$$\n",
    "    Var(X_{project})  = \\frac{1}{m} \\sum_{i=1}^m||X^{(i)}_{project}||^2\n",
    "$$"
   ]
  },
  {
   "cell_type": "markdown",
   "metadata": {},
   "source": [
    "$$\n",
    "    w = (w_1, w_2), X^{(i)} = (X_1^{(i)}, X_2^{(i)})\n",
    "$$"
   ]
  },
  {
   "cell_type": "markdown",
   "metadata": {},
   "source": [
    "看作两个向量:\n",
    "$$\n",
    "    (X_{pr1}^{(i)}, X_{pr2}^{(i)})\n",
    "$$"
   ]
  },
  {
   "cell_type": "markdown",
   "metadata": {},
   "source": [
    "为$X$映射到$w$的投影点"
   ]
  },
  {
   "cell_type": "markdown",
   "metadata": {},
   "source": [
    "$$\n",
    "    X^{(i)} \\cdot w = ||X^{(i)}|| \\cdot ||w|| \\cdot cos\\theta\n",
    "$$"
   ]
  },
  {
   "cell_type": "markdown",
   "metadata": {},
   "source": [
    "$w$为单位向量"
   ]
  },
  {
   "cell_type": "markdown",
   "metadata": {},
   "source": [
    "$$\n",
    "    X^{(i)} \\cdot w = ||X^{(i)}|| \\cdot cos\\theta\n",
    "$$"
   ]
  },
  {
   "cell_type": "markdown",
   "metadata": {},
   "source": [
    "$$\n",
    "    X^{(i)} \\cdot w = ||X^{(i)}_{project}||\n",
    "$$"
   ]
  },
  {
   "cell_type": "markdown",
   "metadata": {},
   "source": [
    "所以"
   ]
  },
  {
   "cell_type": "markdown",
   "metadata": {},
   "source": [
    "$$\n",
    "    Var(X_{project})  = \\frac{1}{m} \\sum_{i=1}^m(X^{(i)}_{project} )^2 = \\frac{1}{m} \\sum_{i=1}^m||X^{(i)} \\cdot w||^2\n",
    "$$"
   ]
  },
  {
   "cell_type": "markdown",
   "metadata": {},
   "source": [
    "当前目标：求$w$，使得\n",
    "$$\n",
    "    \\frac{1}{m} \\sum_{i=1}^m(X^{(i)} \\cdot w)^2\n",
    "$$"
   ]
  },
  {
   "cell_type": "markdown",
   "metadata": {},
   "source": [
    "最大"
   ]
  },
  {
   "cell_type": "markdown",
   "metadata": {},
   "source": [
    "如果是n维向量，展开后为:\n",
    "$$\n",
    "    Var(X_{project})  = \\frac{1}{m} \\sum_{i=1}^m||X^{(i)} \\cdot w||^2 = \\frac{1}{m}\\sum_{i=1}^m(X_1^{(i)}w_1 + X_2^{(i)}w2 + ... + X_n^{(i)}w_n)^2\n",
    "$$"
   ]
  },
  {
   "cell_type": "markdown",
   "metadata": {},
   "source": [
    "至此，PCA化简衡量一个目标函数的最优化问题，使用梯度上升法可以解决。"
   ]
  },
  {
   "cell_type": "code",
   "execution_count": null,
   "metadata": {},
   "outputs": [],
   "source": []
  }
 ],
 "metadata": {
  "kernelspec": {
   "display_name": "Python 3",
   "language": "python",
   "name": "python3"
  },
  "language_info": {
   "codemirror_mode": {
    "name": "ipython",
    "version": 3
   },
   "file_extension": ".py",
   "mimetype": "text/x-python",
   "name": "python",
   "nbconvert_exporter": "python",
   "pygments_lexer": "ipython3",
   "version": "3.6.10"
  }
 },
 "nbformat": 4,
 "nbformat_minor": 4
}
