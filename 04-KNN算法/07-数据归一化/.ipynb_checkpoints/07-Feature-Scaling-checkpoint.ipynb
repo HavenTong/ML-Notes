{
 "cells": [
  {
   "cell_type": "markdown",
   "metadata": {},
   "source": [
    "# 数据归一化"
   ]
  },
  {
   "cell_type": "markdown",
   "metadata": {},
   "source": [
    "**将所有的数据映射到统一尺度中**"
   ]
  },
  {
   "cell_type": "markdown",
   "metadata": {},
   "source": [
    "最简单的方式：<br>\n",
    "**最值归一化：**把所有的数据映射到0-1之间 (normalization)"
   ]
  },
  {
   "cell_type": "markdown",
   "metadata": {},
   "source": [
    "$$\n",
    "    x_{scale} = \\frac{x - x_{min}}{x_{max} - x_{min}}\n",
    "$$"
   ]
  },
  {
   "cell_type": "markdown",
   "metadata": {},
   "source": [
    "适用于分布有明显边界的情况；受outlier影响较大 (分数，灰度值)"
   ]
  },
  {
   "cell_type": "markdown",
   "metadata": {},
   "source": [
    "**均值方差归一化**: 把所有的数据归一到均值为0，方差为1的分布中(standardization)"
   ]
  },
  {
   "cell_type": "markdown",
   "metadata": {},
   "source": [
    "$$\n",
    "    x_{scale} = \\frac{x - x_{mean}}{s}\n",
    "$$"
   ]
  },
  {
   "cell_type": "markdown",
   "metadata": {},
   "source": [
    "适用于数据分布没有明显的边界；有可能存在极端数据值的情况 (收入)"
   ]
  },
  {
   "cell_type": "markdown",
   "metadata": {},
   "source": [
    "**除了类似于学生分数的情况下，其他情况均可以优先考虑均值方差归一化**"
   ]
  },
  {
   "cell_type": "markdown",
   "metadata": {},
   "source": [
    "# 数据归一化处理"
   ]
  },
  {
   "cell_type": "code",
   "execution_count": 1,
   "metadata": {},
   "outputs": [],
   "source": [
    "import numpy as np\n",
    "import matplotlib.pyplot as plt"
   ]
  },
  {
   "cell_type": "markdown",
   "metadata": {},
   "source": [
    "## 最值归一化 (Normalization)"
   ]
  },
  {
   "cell_type": "code",
   "execution_count": 4,
   "metadata": {},
   "outputs": [],
   "source": [
    "x = np.random.randint(0, 100, size=100)"
   ]
  },
  {
   "cell_type": "code",
   "execution_count": 5,
   "metadata": {},
   "outputs": [
    {
     "data": {
      "text/plain": [
       "array([42, 35, 53, 11, 12, 70, 27, 56, 37, 65, 70, 86, 62, 79, 37, 35, 49,\n",
       "       17, 30, 65, 84, 33, 17, 37,  1,  8, 89, 23, 45, 74, 91, 49, 98, 92,\n",
       "        5, 88, 80,  7,  3, 20, 19,  1,  7,  5, 61, 39, 19, 98,  8,  5, 88,\n",
       "       40, 81, 61, 12,  2, 77, 74, 88, 57, 62, 63, 11, 83, 33, 93, 10,  0,\n",
       "       37,  6, 88, 28, 26, 48, 62, 97, 29, 17,  6, 42, 38, 18, 85, 65, 16,\n",
       "       32,  9,  2, 72, 10, 97, 24, 54, 43, 33, 28, 42, 17, 30, 17])"
      ]
     },
     "execution_count": 5,
     "metadata": {},
     "output_type": "execute_result"
    }
   ],
   "source": [
    "x"
   ]
  },
  {
   "cell_type": "code",
   "execution_count": 6,
   "metadata": {},
   "outputs": [
    {
     "data": {
      "text/plain": [
       "array([0.42857143, 0.35714286, 0.54081633, 0.1122449 , 0.12244898,\n",
       "       0.71428571, 0.2755102 , 0.57142857, 0.37755102, 0.66326531,\n",
       "       0.71428571, 0.87755102, 0.63265306, 0.80612245, 0.37755102,\n",
       "       0.35714286, 0.5       , 0.17346939, 0.30612245, 0.66326531,\n",
       "       0.85714286, 0.33673469, 0.17346939, 0.37755102, 0.01020408,\n",
       "       0.08163265, 0.90816327, 0.23469388, 0.45918367, 0.75510204,\n",
       "       0.92857143, 0.5       , 1.        , 0.93877551, 0.05102041,\n",
       "       0.89795918, 0.81632653, 0.07142857, 0.03061224, 0.20408163,\n",
       "       0.19387755, 0.01020408, 0.07142857, 0.05102041, 0.62244898,\n",
       "       0.39795918, 0.19387755, 1.        , 0.08163265, 0.05102041,\n",
       "       0.89795918, 0.40816327, 0.82653061, 0.62244898, 0.12244898,\n",
       "       0.02040816, 0.78571429, 0.75510204, 0.89795918, 0.58163265,\n",
       "       0.63265306, 0.64285714, 0.1122449 , 0.84693878, 0.33673469,\n",
       "       0.94897959, 0.10204082, 0.        , 0.37755102, 0.06122449,\n",
       "       0.89795918, 0.28571429, 0.26530612, 0.48979592, 0.63265306,\n",
       "       0.98979592, 0.29591837, 0.17346939, 0.06122449, 0.42857143,\n",
       "       0.3877551 , 0.18367347, 0.86734694, 0.66326531, 0.16326531,\n",
       "       0.32653061, 0.09183673, 0.02040816, 0.73469388, 0.10204082,\n",
       "       0.98979592, 0.24489796, 0.55102041, 0.43877551, 0.33673469,\n",
       "       0.28571429, 0.42857143, 0.17346939, 0.30612245, 0.17346939])"
      ]
     },
     "execution_count": 6,
     "metadata": {},
     "output_type": "execute_result"
    }
   ],
   "source": [
    "(x - np.min(x)) / (np.max(x) - np.min(x))"
   ]
  },
  {
   "cell_type": "code",
   "execution_count": 7,
   "metadata": {},
   "outputs": [],
   "source": [
    "x = np.random.randint(0, 100, size=(50, 2))"
   ]
  },
  {
   "cell_type": "code",
   "execution_count": 8,
   "metadata": {},
   "outputs": [
    {
     "data": {
      "text/plain": [
       "array([[82,  0],\n",
       "       [75, 69],\n",
       "       [17, 60],\n",
       "       [23, 68],\n",
       "       [45, 65],\n",
       "       [80, 55],\n",
       "       [74, 69],\n",
       "       [66, 97],\n",
       "       [56, 47],\n",
       "       [ 7, 65],\n",
       "       [81, 62],\n",
       "       [71, 69],\n",
       "       [66, 27],\n",
       "       [34, 83],\n",
       "       [16, 42],\n",
       "       [34, 99],\n",
       "       [52, 14],\n",
       "       [91,  7],\n",
       "       [ 3,  4],\n",
       "       [90, 82],\n",
       "       [ 4, 23],\n",
       "       [75, 47],\n",
       "       [89, 78],\n",
       "       [59, 39],\n",
       "       [91,  6],\n",
       "       [79, 89],\n",
       "       [77, 60],\n",
       "       [36, 42],\n",
       "       [58, 18],\n",
       "       [72, 94],\n",
       "       [69, 65],\n",
       "       [53, 99],\n",
       "       [ 8, 74],\n",
       "       [88, 17],\n",
       "       [ 8, 96],\n",
       "       [75, 85],\n",
       "       [36, 82],\n",
       "       [22, 63],\n",
       "       [46, 13],\n",
       "       [35, 75],\n",
       "       [45, 85],\n",
       "       [97, 37],\n",
       "       [55,  3],\n",
       "       [61, 23],\n",
       "       [97, 87],\n",
       "       [49, 41],\n",
       "       [54, 29],\n",
       "       [ 7, 86],\n",
       "       [26,  3],\n",
       "       [41, 19]])"
      ]
     },
     "execution_count": 8,
     "metadata": {},
     "output_type": "execute_result"
    }
   ],
   "source": [
    "x"
   ]
  },
  {
   "cell_type": "code",
   "execution_count": 11,
   "metadata": {},
   "outputs": [],
   "source": [
    "x = np.array(x, dtype=float) # 类型改为浮点数"
   ]
  },
  {
   "cell_type": "code",
   "execution_count": 12,
   "metadata": {},
   "outputs": [
    {
     "data": {
      "text/plain": [
       "array([[82.,  0.],\n",
       "       [75., 69.],\n",
       "       [17., 60.],\n",
       "       [23., 68.],\n",
       "       [45., 65.],\n",
       "       [80., 55.],\n",
       "       [74., 69.],\n",
       "       [66., 97.],\n",
       "       [56., 47.],\n",
       "       [ 7., 65.]])"
      ]
     },
     "execution_count": 12,
     "metadata": {},
     "output_type": "execute_result"
    }
   ],
   "source": [
    "x[:10, :]"
   ]
  },
  {
   "cell_type": "code",
   "execution_count": 13,
   "metadata": {},
   "outputs": [],
   "source": [
    "x[:, 0] = (x[:, 0] - np.min(x[:, 0])) / (np.max(x[:, 0]) - np.min(x[:, 0]))"
   ]
  },
  {
   "cell_type": "code",
   "execution_count": 14,
   "metadata": {},
   "outputs": [],
   "source": [
    "x[:, 1] = (x[:, 1] - np.min(x[:, 1])) / (np.max(x[:, 1]) - np.min(x[:, 1]))"
   ]
  },
  {
   "cell_type": "code",
   "execution_count": 15,
   "metadata": {},
   "outputs": [
    {
     "data": {
      "text/plain": [
       "array([[0.84042553, 0.        ],\n",
       "       [0.76595745, 0.6969697 ],\n",
       "       [0.14893617, 0.60606061],\n",
       "       [0.21276596, 0.68686869],\n",
       "       [0.44680851, 0.65656566],\n",
       "       [0.81914894, 0.55555556],\n",
       "       [0.75531915, 0.6969697 ],\n",
       "       [0.67021277, 0.97979798],\n",
       "       [0.56382979, 0.47474747],\n",
       "       [0.04255319, 0.65656566]])"
      ]
     },
     "execution_count": 15,
     "metadata": {},
     "output_type": "execute_result"
    }
   ],
   "source": [
    "x[:10, :]"
   ]
  },
  {
   "cell_type": "code",
   "execution_count": 16,
   "metadata": {},
   "outputs": [
    {
     "data": {
      "image/png": "[encoded data removed]",
      "text/plain": [
       "<Figure size 432x288 with 1 Axes>"
      ]
     },
     "metadata": {
      "needs_background": "light"
     },
     "output_type": "display_data"
    }
   ],
   "source": [
    "plt.scatter(x[:, 0], x[:, 1]) # 绘制散点图\n",
    "plt.show()"
   ]
  },
  {
   "cell_type": "code",
   "execution_count": 17,
   "metadata": {},
   "outputs": [
    {
     "data": {
      "text/plain": [
       "0.5372340425531915"
      ]
     },
     "execution_count": 17,
     "metadata": {},
     "output_type": "execute_result"
    }
   ],
   "source": [
    "np.mean(x[:, 0]) # 第0列的均值"
   ]
  },
  {
   "cell_type": "code",
   "execution_count": 18,
   "metadata": {},
   "outputs": [
    {
     "data": {
      "text/plain": [
       "0.2931019997448222"
      ]
     },
     "execution_count": 18,
     "metadata": {},
     "output_type": "execute_result"
    }
   ],
   "source": [
    "np.std(x[:, 0]) # 第0列的方差"
   ]
  },
  {
   "cell_type": "code",
   "execution_count": 19,
   "metadata": {},
   "outputs": [
    {
     "data": {
      "text/plain": [
       "0.5377777777777777"
      ]
     },
     "execution_count": 19,
     "metadata": {},
     "output_type": "execute_result"
    }
   ],
   "source": [
    "np.mean(x[:, 1]) #第1列的均值"
   ]
  },
  {
   "cell_type": "code",
   "execution_count": 20,
   "metadata": {},
   "outputs": [
    {
     "data": {
      "text/plain": [
       "0.3077713962070425"
      ]
     },
     "execution_count": 20,
     "metadata": {},
     "output_type": "execute_result"
    }
   ],
   "source": [
    "np.std(x[:, 1]) # 第1列的方差"
   ]
  },
  {
   "cell_type": "markdown",
   "metadata": {},
   "source": [
    "## 均值方差归一化"
   ]
  },
  {
   "cell_type": "code",
   "execution_count": 31,
   "metadata": {},
   "outputs": [],
   "source": [
    "x2 = np.random.randint(0, 100, size=(50, 2))"
   ]
  },
  {
   "cell_type": "code",
   "execution_count": 32,
   "metadata": {},
   "outputs": [],
   "source": [
    "x2 = np.array(x2, dtype=float)"
   ]
  },
  {
   "cell_type": "code",
   "execution_count": 33,
   "metadata": {},
   "outputs": [
    {
     "data": {
      "text/plain": [
       "array([[87., 75.],\n",
       "       [76., 31.],\n",
       "       [99., 42.],\n",
       "       [20., 74.],\n",
       "       [51., 41.],\n",
       "       [13.,  0.],\n",
       "       [46., 25.],\n",
       "       [87., 81.],\n",
       "       [59.,  6.],\n",
       "       [32., 36.],\n",
       "       [11., 98.],\n",
       "       [49.,  2.],\n",
       "       [94., 40.],\n",
       "       [32.,  7.],\n",
       "       [51., 86.],\n",
       "       [17., 99.],\n",
       "       [68., 94.],\n",
       "       [42., 42.],\n",
       "       [37., 76.],\n",
       "       [52., 55.],\n",
       "       [12., 92.],\n",
       "       [37., 85.],\n",
       "       [78.,  5.],\n",
       "       [33., 84.],\n",
       "       [73., 95.],\n",
       "       [55., 35.],\n",
       "       [64., 68.],\n",
       "       [53., 98.],\n",
       "       [77., 49.],\n",
       "       [ 8., 70.],\n",
       "       [51., 24.],\n",
       "       [21., 37.],\n",
       "       [41., 71.],\n",
       "       [23., 79.],\n",
       "       [84., 10.],\n",
       "       [97., 94.],\n",
       "       [78., 43.],\n",
       "       [ 2., 88.],\n",
       "       [51., 66.],\n",
       "       [89., 56.],\n",
       "       [83., 60.],\n",
       "       [23., 47.],\n",
       "       [86., 81.],\n",
       "       [ 1., 93.],\n",
       "       [ 3., 41.],\n",
       "       [21., 52.],\n",
       "       [50.,  9.],\n",
       "       [61., 42.],\n",
       "       [66., 33.],\n",
       "       [61., 33.]])"
      ]
     },
     "execution_count": 33,
     "metadata": {},
     "output_type": "execute_result"
    }
   ],
   "source": [
    "x2"
   ]
  },
  {
   "cell_type": "code",
   "execution_count": 34,
   "metadata": {},
   "outputs": [],
   "source": [
    "x2[:, 0] = (x2[:, 0] - np.mean(x2[:, 0])) / np.std(x2[:, 0]) # 均值方差归一化"
   ]
  },
  {
   "cell_type": "code",
   "execution_count": 35,
   "metadata": {},
   "outputs": [],
   "source": [
    "x2[:, 1] = (x2[:, 1] - np.mean(x2[:, 1])) / np.std(x2[:, 1])"
   ]
  },
  {
   "cell_type": "code",
   "execution_count": 36,
   "metadata": {},
   "outputs": [
    {
     "data": {
      "image/png": "[encoded data removed]",
      "text/plain": [
       "<Figure size 432x288 with 1 Axes>"
      ]
     },
     "metadata": {
      "needs_background": "light"
     },
     "output_type": "display_data"
    }
   ],
   "source": [
    "plt.scatter(x2[:, 0], x2[:, 1])\n",
    "plt.show()"
   ]
  },
  {
   "cell_type": "code",
   "execution_count": 39,
   "metadata": {},
   "outputs": [
    {
     "data": {
      "text/plain": [
       "-3.219646771412954e-17"
      ]
     },
     "execution_count": 39,
     "metadata": {},
     "output_type": "execute_result"
    }
   ],
   "source": [
    "np.mean(x2[:, 0]) # 均值接近于0"
   ]
  },
  {
   "cell_type": "code",
   "execution_count": 40,
   "metadata": {},
   "outputs": [
    {
     "data": {
      "text/plain": [
       "0.9999999999999999"
      ]
     },
     "execution_count": 40,
     "metadata": {},
     "output_type": "execute_result"
    }
   ],
   "source": [
    "np.std(x2[:, 0]) # 方差接近于1"
   ]
  },
  {
   "cell_type": "code",
   "execution_count": 41,
   "metadata": {},
   "outputs": [
    {
     "data": {
      "text/plain": [
       "-8.881784197001253e-18"
      ]
     },
     "execution_count": 41,
     "metadata": {},
     "output_type": "execute_result"
    }
   ],
   "source": [
    "np.mean(x2[:, 1]) # 均值接近与0"
   ]
  },
  {
   "cell_type": "code",
   "execution_count": 42,
   "metadata": {},
   "outputs": [
    {
     "data": {
      "text/plain": [
       "1.0"
      ]
     },
     "execution_count": 42,
     "metadata": {},
     "output_type": "execute_result"
    }
   ],
   "source": [
    "np.std(x2[:, 1]) # 均值接近于1"
   ]
  },
  {
   "cell_type": "code",
   "execution_count": null,
   "metadata": {},
   "outputs": [],
   "source": []
  }
 ],
 "metadata": {
  "kernelspec": {
   "display_name": "Python 3",
   "language": "python",
   "name": "python3"
  },
  "language_info": {
   "codemirror_mode": {
    "name": "ipython",
    "version": 3
   },
   "file_extension": ".py",
   "mimetype": "text/x-python",
   "name": "python",
   "nbconvert_exporter": "python",
   "pygments_lexer": "ipython3",
   "version": "3.6.10"
  }
 },
 "nbformat": 4,
 "nbformat_minor": 4
}
