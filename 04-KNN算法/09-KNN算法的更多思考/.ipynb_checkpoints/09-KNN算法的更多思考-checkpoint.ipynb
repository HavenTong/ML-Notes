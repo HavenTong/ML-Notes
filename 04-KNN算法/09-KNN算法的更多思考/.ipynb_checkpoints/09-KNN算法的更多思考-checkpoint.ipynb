{
 "cells": [
  {
   "cell_type": "markdown",
   "metadata": {},
   "source": [
    "# 更多关于KNN算法的思考"
   ]
  },
  {
   "cell_type": "markdown",
   "metadata": {},
   "source": [
    "- 解决分类问题\n",
    "- 天然可以解决多分类问题\n",
    "- 思想简单，效果强大\n",
    "- KNN也可以解决回归问题\n",
    "- `sklearn.neighbors.KNeighborsRegressor`来解决回归问题"
   ]
  },
  {
   "cell_type": "markdown",
   "metadata": {},
   "source": [
    "## 缺点"
   ]
  },
  {
   "cell_type": "markdown",
   "metadata": {},
   "source": [
    "- 效率低下<br>\n",
    "  如果训练集有$m$个样本，$n$个特征，则预测一个数据需要$O(m * n)$<br>\n",
    "  **优化**<br>\n",
    "  使用树结构: KD-Tree, Ball-Tree\n",
    "- 高度数据相关<br>\n",
    "- 预测结果不具有可解释性<br>\n",
    "- 维数灾难<br>\n",
    "    随着维数增加，“看似相近”的两个点之间的距离越来越大<br>\n",
    "  **解决方法**<br>\n",
    "  降维"
   ]
  },
  {
   "cell_type": "markdown",
   "metadata": {},
   "source": [
    "## 机器学习流程"
   ]
  },
  {
   "cell_type": "markdown",
   "metadata": {},
   "source": [
    "- 将数据集分为训练数据集和测试数据集\n",
    "- 数据归一化 Scaler\n",
    "- 对于测试数据集使用同样的Scaler\n",
    "- 将测试数据集送入模型，查看模型的准确度"
   ]
  },
  {
   "cell_type": "code",
   "execution_count": null,
   "metadata": {},
   "outputs": [],
   "source": []
  }
 ],
 "metadata": {
  "kernelspec": {
   "display_name": "Python 3",
   "language": "python",
   "name": "python3"
  },
  "language_info": {
   "codemirror_mode": {
    "name": "ipython",
    "version": 3
   },
   "file_extension": ".py",
   "mimetype": "text/x-python",
   "name": "python",
   "nbconvert_exporter": "python",
   "pygments_lexer": "ipython3",
   "version": "3.6.10"
  }
 },
 "nbformat": 4,
 "nbformat_minor": 4
}
