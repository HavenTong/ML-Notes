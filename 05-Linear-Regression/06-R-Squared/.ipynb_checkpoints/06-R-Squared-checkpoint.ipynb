{
 "cells": [
  {
   "cell_type": "markdown",
   "metadata": {},
   "source": [
    "# R Squared"
   ]
  },
  {
   "cell_type": "markdown",
   "metadata": {},
   "source": [
    "$$\n",
    "    R^2 = 1 - \\frac{SS_{residual}}{SS_{total}}\n",
    "$$"
   ]
  },
  {
   "cell_type": "markdown",
   "metadata": {},
   "source": [
    "$S_{residual}:$ Residual Sum of Squares"
   ]
  },
  {
   "cell_type": "markdown",
   "metadata": {},
   "source": [
    "$S_{total}:$ Total Sum of Squares"
   ]
  },
  {
   "cell_type": "markdown",
   "metadata": {},
   "source": [
    "$$\n",
    "    R^2 = 1 - \\frac{\\sum_i(\\hat{y}^{(i)}-y^{(i)})^2}{\\sum_i(\\bar{y} - y^{(i)})^2}\n",
    "$$"
   ]
  },
  {
   "cell_type": "markdown",
   "metadata": {},
   "source": [
    "- 分子\n",
    "使用我们模型预测产生的错误\n",
    "- 分母\n",
    "使用$y=\\bar{y}(baseline\\quad model)$预测产生的错误"
   ]
  },
  {
   "cell_type": "markdown",
   "metadata": {},
   "source": [
    "衡量了没有产生错误的指标"
   ]
  },
  {
   "cell_type": "markdown",
   "metadata": {},
   "source": [
    "- $R^2 <= 1$\n",
    "- $R^2$越大越好。当我们预测模型不犯任何错误时，$R^2$得到最大值1\n",
    "- 当我们的模型等于基准模型时，$R^2$为0\n",
    "- 如果$R^2 < 0$，说明我们的模型还不如基准模型。此时，很有可能我们的数据不存在任何线性关系"
   ]
  },
  {
   "cell_type": "markdown",
   "metadata": {},
   "source": [
    "$$\n",
    "    R^2 = 1 - \\frac{(\\sum_i(\\hat{y}^{(i)}-y^{(i)})^2) / m}{(\\sum_i(\\bar{y} - y^{(i)})^2) / m}\n",
    "$$"
   ]
  },
  {
   "cell_type": "markdown",
   "metadata": {},
   "source": [
    "分子为$MSE$， 分母为$y$对应的方差"
   ]
  },
  {
   "cell_type": "markdown",
   "metadata": {},
   "source": [
    "所以：\n",
    "$$\n",
    "    R^2 = 1 - \\frac{MSE(\\hat{y}, y)}{Var(y)}\n",
    "$$"
   ]
  },
  {
   "cell_type": "markdown",
   "metadata": {},
   "source": [
    "### 实现见上节notebook"
   ]
  },
  {
   "cell_type": "code",
   "execution_count": null,
   "metadata": {},
   "outputs": [],
   "source": []
  }
 ],
 "metadata": {
  "kernelspec": {
   "display_name": "Python 3",
   "language": "python",
   "name": "python3"
  },
  "language_info": {
   "codemirror_mode": {
    "name": "ipython",
    "version": 3
   },
   "file_extension": ".py",
   "mimetype": "text/x-python",
   "name": "python",
   "nbconvert_exporter": "python",
   "pygments_lexer": "ipython3",
   "version": "3.6.10"
  }
 },
 "nbformat": 4,
 "nbformat_minor": 4
}
