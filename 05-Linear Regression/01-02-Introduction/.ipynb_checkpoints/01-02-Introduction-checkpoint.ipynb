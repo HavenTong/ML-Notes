{
 "cells": [
  {
   "cell_type": "markdown",
   "metadata": {},
   "source": [
    "# 线性回归算法介绍"
   ]
  },
  {
   "cell_type": "markdown",
   "metadata": {},
   "source": [
    "- 解决回归问题\n",
    "- 思想简单，实现容易\n",
    "- 许多强大的非线性模型的基础\n",
    "- 结果具有很好的可解释性\n",
    "- 蕴含机器学习很多重要思想"
   ]
  },
  {
   "cell_type": "markdown",
   "metadata": {},
   "source": [
    "# 简单线性回归"
   ]
  },
  {
   "cell_type": "markdown",
   "metadata": {},
   "source": [
    "$$\n",
    "    y = ax + b\n",
    "$$"
   ]
  },
  {
   "cell_type": "markdown",
   "metadata": {},
   "source": [
    "$$\n",
    "    \\hat{y}^{(i)} = ax^{(i)} + b\n",
    "$$"
   ]
  },
  {
   "cell_type": "markdown",
   "metadata": {},
   "source": [
    "$\\hat{y}^{(i)}$为预测值，$y^{(i)}$为真实值"
   ]
  },
  {
   "cell_type": "markdown",
   "metadata": {},
   "source": [
    "我们希望$y^{(i)}$和$\\hat{y}^{(i)}$差距尽可能小"
   ]
  },
  {
   "cell_type": "markdown",
   "metadata": {},
   "source": [
    "$$\n",
    "    |y^{(i)} - \\hat{y}^{(i)}| \n",
    "$$"
   ]
  },
  {
   "cell_type": "markdown",
   "metadata": {},
   "source": [
    "$$\n",
    "    (y^{(i)} - \\hat{y}^{(i)})^2\n",
    "$$"
   ]
  },
  {
   "cell_type": "markdown",
   "metadata": {},
   "source": [
    "考虑所有样本：\n",
    "$$\n",
    "    \\sum_{i=1}^m{(y^{(i)} - \\hat{y}^{(i)})^2}\n",
    "$$"
   ]
  },
  {
   "cell_type": "markdown",
   "metadata": {},
   "source": [
    "**目标：**\n",
    "使\n",
    "$$\n",
    "    \\sum_{i=1}^m{(y^{(i)} - \\hat{y}^{(i)})^2}\n",
    "$$\n",
    "尽可能小<br>\n",
    "代入\n",
    "$$\n",
    "    \\hat{y}^{(i)} = ax^{(i)} + b\n",
    "$$"
   ]
  },
  {
   "cell_type": "markdown",
   "metadata": {},
   "source": [
    "得到：\n",
    "$$\n",
    "    \\sum_{i=1}^m(y^{(i)} - ax^{(i)} - b)^2\n",
    "$$"
   ]
  },
  {
   "cell_type": "markdown",
   "metadata": {},
   "source": [
    "**目标转化为：**<br>\n",
    "找到$a$和$b$，使得<br>\n",
    "$$\n",
    "    \\sum_{i=1}^m(y^{(i)} - ax^{(i)} - b)^2\n",
    "$$\n",
    "尽可能小"
   ]
  },
  {
   "cell_type": "markdown",
   "metadata": {},
   "source": [
    "这样的函数也被称为**损失函数(loss function)**"
   ]
  },
  {
   "cell_type": "markdown",
   "metadata": {},
   "source": [
    "**机器学习解决问题的思路：**<br>\n",
    "- 通过分析问题，确定问题的损失函数或者效用函数\n",
    "- 通过最优化损失函数或者效用函数，获得机器学习的模型"
   ]
  },
  {
   "cell_type": "markdown",
   "metadata": {},
   "source": [
    "近乎所有参数学习算法都是这样的套路"
   ]
  },
  {
   "cell_type": "markdown",
   "metadata": {},
   "source": [
    "当前的目标是一个典型的最小二乘法问题：最小化误差的平方"
   ]
  },
  {
   "cell_type": "markdown",
   "metadata": {},
   "source": [
    "$$\n",
    "    a = \\frac{\\sum_{i=1}^m(x^{(i)} - \\bar{x})(y^{(i)} - \\bar{y})}{\\sum_{i=1}^m(x^{(i)} - \\bar{x})^2}\n",
    "$$"
   ]
  },
  {
   "cell_type": "markdown",
   "metadata": {},
   "source": [
    "$$\n",
    "b = \\bar{y} - a\\bar{x}\n",
    "$$"
   ]
  },
  {
   "cell_type": "markdown",
   "metadata": {},
   "source": [
    "# 最小二乘法"
   ]
  },
  {
   "cell_type": "markdown",
   "metadata": {},
   "source": [
    "设：\n",
    "$$\n",
    "    \\sum_{i=1}^m(y^{(i)} - ax^{(i)} - b)^2 = J(a,b)\n",
    "$$"
   ]
  },
  {
   "cell_type": "markdown",
   "metadata": {},
   "source": [
    "求最值需要对自变量$a$, $b$求导"
   ]
  },
  {
   "cell_type": "markdown",
   "metadata": {},
   "source": [
    "$$\n",
    "    \\frac{\\partial J(a,b)}{\\partial a} = 0, \\frac{\\partial J(a,b)}{\\partial b} = 0\n",
    "$$"
   ]
  },
  {
   "cell_type": "markdown",
   "metadata": {},
   "source": [
    "$$\n",
    "\\frac{\\partial J(a,b)}{\\partial b} = \\sum_{i=1}^m2(y^{(i)} - ax^{(i)} - b)(-1) = 0\n",
    "$$"
   ]
  },
  {
   "cell_type": "markdown",
   "metadata": {},
   "source": [
    "$$\n",
    "\\sum_{i=1}^m(y^{(i)} - ax^{(i)} - b) = 0\n",
    "$$"
   ]
  },
  {
   "cell_type": "markdown",
   "metadata": {},
   "source": [
    "$$\n",
    "    \\sum_{i = 1}^my^{(i)} - a\\sum_{i=1}^mx^{(i)} - \\sum_{i = 1}^mb = 0\n",
    "$$"
   ]
  },
  {
   "cell_type": "markdown",
   "metadata": {},
   "source": [
    "$$\n",
    "    \\sum_{i = 1}^my^{(i)} - a\\sum_{i=1}^mx^{(i)} - mb = 0\n",
    "$$"
   ]
  },
  {
   "cell_type": "markdown",
   "metadata": {},
   "source": [
    "$$\n",
    "    \\sum_{i = 1}^my^{(i)} - a\\sum_{i=1}^mx^{(i)} = mb\n",
    "$$"
   ]
  },
  {
   "cell_type": "markdown",
   "metadata": {},
   "source": [
    "$$\n",
    "b = \\bar{y} - a\\bar{x}\n",
    "$$"
   ]
  },
  {
   "cell_type": "markdown",
   "metadata": {},
   "source": [
    "$$\n",
    "    \\frac{\\partial J(a,b)}{\\partial a} = \\sum_{i=1}^m2(y^{(i)} -ax^{(i)} - b)(-x^{(i)}) = 0\n",
    "$$"
   ]
  },
  {
   "cell_type": "markdown",
   "metadata": {},
   "source": [
    "$$\n",
    "    \\sum_{i=1}^m(y^{(i)} -ax^{(i)} - b)x^{(i)} = 0\n",
    "$$"
   ]
  },
  {
   "cell_type": "markdown",
   "metadata": {},
   "source": [
    "将$b = \\bar{y} - a\\bar{x}$代入:\n",
    "$$\n",
    "        \\sum_{i=1}^m(y^{(i)} -ax^{(i)} - \\bar{y} + a\\bar{x})x^{(i)} = 0\n",
    "$$"
   ]
  },
  {
   "cell_type": "markdown",
   "metadata": {},
   "source": [
    "$$\n",
    "    \\sum_{i=1}^m(x^{(i)}y^{(i)} -a(x^{(i)})^2 - x^{(i)}\\bar{y} + a\\bar{x}x^{(i)}) = 0\n",
    "$$"
   ]
  },
  {
   "cell_type": "markdown",
   "metadata": {},
   "source": [
    "$$\n",
    "    \\sum_{i=1}^m(x^{(i)}y^{(i)} - x^{(i)}\\bar{y} -a(x^{(i)})^2 + a\\bar{x}x^{(i)}) = 0\n",
    "$$"
   ]
  },
  {
   "cell_type": "markdown",
   "metadata": {},
   "source": [
    "$$\n",
    "    \\sum_{i=1}^m(x^{(i)}y^{(i)} - x^{(i)}\\bar{y}) - \\sum_{i=1}^m(a(x^{(i)})^2 - a\\bar{x}x^{(i)}) = 0\n",
    "$$"
   ]
  },
  {
   "cell_type": "markdown",
   "metadata": {},
   "source": [
    "$$\n",
    "    \\sum_{i=1}^m(x^{(i)}y^{(i)} - x^{(i)}\\bar{y}) - a\\sum_{i=1}^m((x^{(i)})^2 - \\bar{x}x^{(i)}) = 0\n",
    "$$"
   ]
  },
  {
   "cell_type": "markdown",
   "metadata": {},
   "source": [
    "$$\n",
    "        a = \\frac{\\sum_{i=1}^m(x^{(i)}y^{(i)} - x^{(i)}\\bar{y})}{\\sum_{i=1}^m((x^{(i)})^2 - \\bar{x}x^{(i)})}\n",
    "$$"
   ]
  },
  {
   "cell_type": "markdown",
   "metadata": {},
   "source": [
    "$$\n",
    "    \\sum_{i=1}^mx^{(i)}\\bar{y} = \\bar{y}\\sum_{i=1}^mx^{(i)} = m\\bar{y} \\cdot \\bar{x} = \\bar{x}\\sum_{i=1}^my^{(i)} = \\sum_{i=1}^{m}\\bar{x}y^{(i)} = \\sum_{i=1}^m\\bar{x} \\cdot \\bar{y}\n",
    "$$"
   ]
  },
  {
   "cell_type": "markdown",
   "metadata": {},
   "source": [
    "$$\n",
    "    a = \\frac{\\sum_{i=1}^m(x^{(i)}y^{(i)} - x^{(i)}\\bar{y} - \\bar{x}y^{(i)} + \\bar{x}\\bar{y} )}{\\sum_{i=1}^m((x^{(i)})^2 - \\bar{x}x^{(i)} - \\bar{x}x^{(i)} + \\bar{x}^2)}\n",
    "$$"
   ]
  },
  {
   "cell_type": "markdown",
   "metadata": {},
   "source": [
    "进一步简化:\n",
    "$$\n",
    "    a = \\frac{\\sum_{i=1}^m(x^{(i)} - \\bar{x})(y^{(i)} - \\bar{y})}{\\sum_{i=1}^m(x^{(i)} - \\bar{x})^2}\n",
    "$$"
   ]
  },
  {
   "cell_type": "code",
   "execution_count": null,
   "metadata": {},
   "outputs": [],
   "source": []
  }
 ],
 "metadata": {
  "kernelspec": {
   "display_name": "Python 3",
   "language": "python",
   "name": "python3"
  },
  "language_info": {
   "codemirror_mode": {
    "name": "ipython",
    "version": 3
   },
   "file_extension": ".py",
   "mimetype": "text/x-python",
   "name": "python",
   "nbconvert_exporter": "python",
   "pygments_lexer": "ipython3",
   "version": "3.6.10"
  }
 },
 "nbformat": 4,
 "nbformat_minor": 4
}
